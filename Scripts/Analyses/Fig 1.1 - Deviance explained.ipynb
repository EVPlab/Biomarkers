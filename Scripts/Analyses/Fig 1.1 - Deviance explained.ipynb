{
 "cells": [
  {
   "cell_type": "markdown",
   "id": "6a08800a-27e5-467f-8c93-fb75054d465b",
   "metadata": {},
   "source": [
    "# Fig 1 Classifying pain-associated diagnoses using biological and psychosocial modalities\n",
    "\n",
    "### This notebook contains the code for a secondary analyses for figure 1:\n",
    "- Calculate and plot the deviance explained for models trained to predict rheumatoid arthritis based on blood, psychosocial, and their union\n",
    "- Calculate and plot the deviance explained for models trained to predict fibromyalgia based on brain, psychosocial, and their union\n",
    "- Calculate and plot the deviance explained for models trained to predict chronic pain based on blood/brain, psychosocial, and their union"
   ]
  },
  {
   "cell_type": "code",
   "execution_count": 13,
   "id": "6afc6735-ddef-47b7-8650-c4f75aced4fe",
   "metadata": {},
   "outputs": [],
   "source": [
    "import seaborn as sns\n",
    "import matplotlib.pyplot as plt\n",
    "import pandas as pd\n",
    "import numpy as np\n",
    "import warnings\n",
    "from sklearn.linear_model import LogisticRegression\n",
    "from sklearn.metrics import log_loss\n",
    "from matplotlib_venn import venn2, venn2_circles\n",
    "warnings.filterwarnings(\"ignore\")\n",
    "\n",
    "home_dir = '/Users/Patty/Desktop/EVP_lab/'\n",
    "\n",
    "fs = 7\n",
    "w = 0.5\n",
    "sns.set_context(rc={\"font.size\":fs})   \n",
    "plt.rcParams['font.size'] = fs\n",
    "plt.rcParams[\"font.family\"] = \"Helvetica\"\n",
    "plt.rcParams['figure.dpi'] = 300\n",
    "plt.rc('mathtext',**{'default':'regular'})\n",
    "plt.rcParams['xtick.direction'] = 'out'\n",
    "plt.rcParams['ytick.direction'] = 'out'\n",
    "plt.rcParams['xtick.major.size'] = 2.5\n",
    "plt.rcParams['ytick.major.size'] = 2.5\n",
    "plt.rcParams['xtick.major.pad'] = '1.5'\n",
    "plt.rcParams['ytick.major.pad'] = '1.5'\n",
    "plt.rcParams['xtick.major.width'] = w\n",
    "plt.rcParams['ytick.major.width'] = w\n",
    "plt.rcParams['xtick.minor.size'] = 2.5\n",
    "plt.rcParams['ytick.minor.size'] = 2.5\n",
    "plt.rcParams['xtick.minor.pad'] = '1.5'\n",
    "plt.rcParams['ytick.minor.pad'] = '1.5'\n",
    "plt.rcParams['xtick.minor.width'] = w\n",
    "plt.rcParams['ytick.minor.width'] = w\n",
    "plt.rcParams['axes.linewidth'] = w\n",
    "\n",
    "sns.set_style(\"white\")\n",
    "sns.set_context(\"notebook\")\n",
    "\n",
    "color_mapping = {\n",
    " 'Blood': '#9EB9F3',\n",
    " 'Bone': '#F89C74',\n",
    " 'PRS': '#DCB0F2',\n",
    " 'Stacked': '#87C55F',\n",
    " 'Psychosocial': '#C0BFC9'}"
   ]
  },
  {
   "cell_type": "code",
   "execution_count": 2,
   "id": "331e6f51-5ae8-4185-a9ff-e17f7a67a6da",
   "metadata": {},
   "outputs": [],
   "source": [
    "pain_T0 = pd.read_pickle('/Users/Patty/Desktop/Biomarker_Paper/Pickled_Models/Pain/T0_pain_clf-LR_lin.pickle')\n",
    "pain_T2 = pd.read_pickle('/Users/Patty/Desktop/Biomarker_Paper/Pickled_Models/Pain/T2_pain_clf-LR_lin.pickle')"
   ]
  },
  {
   "cell_type": "markdown",
   "id": "be7571c8-c52f-4165-a492-a58f710ef762",
   "metadata": {},
   "source": [
    "## Calculate deviance explained for CP models based on blood and psychosocial features"
   ]
  },
  {
   "cell_type": "code",
   "execution_count": 6,
   "id": "325ead6a-908c-4eb2-9580-3d23ae353da5",
   "metadata": {},
   "outputs": [
    {
     "name": "stdout",
     "output_type": "stream",
     "text": [
      "D2 Blood Data: 0.01235648469443651\n",
      "D2 Psychosocial Data: 0.062268104846107564\n",
      "D2 Combined Data: 0.06710510703693728\n",
      "Delta D2 (Psychosocial Data): 0.054748622342500775\n",
      "Delta D2 (Blood Data): 0.00483700219082972\n",
      "D2 Intersection: 0.007519482503606789\n"
     ]
    }
   ],
   "source": [
    "blood_cp = pd.DataFrame(np.concatenate([pain_T0[i]['roc_curve'] for i in pain_T0.keys() if 'ChronicPain_Blood' in i],axis=1),index=['eid','CP','prob_blood']).T.groupby('eid').mean()\n",
    "psych_cp = pd.DataFrame(np.concatenate([pain_T0[i]['roc_curve'] for i in pain_T0.keys() if 'ChronicPain_Psycho' in i],axis=1),index=['eid','CP','prob_psych']).T.groupby('eid').mean()\n",
    "combined_df = blood_cp.merge(psych_cp,on='eid')\n",
    "combined_df[['prob_blood','prob_psych']] = np.where(combined_df[['prob_blood','prob_psych']]>0.5,1,0)\n",
    "\n",
    "B = combined_df[['prob_blood']].values\n",
    "P = combined_df[['prob_psych']].values\n",
    "B_P = np.concatenate([B, P], axis=1)\n",
    "y = combined_df['CP_x'].values\n",
    "\n",
    "# Fit Models\n",
    "model_blood = LogisticRegression().fit(B, y)\n",
    "model_psychosocial = LogisticRegression().fit(P, y)\n",
    "model_combined = LogisticRegression().fit(B_P, y)\n",
    "\n",
    "# Compute Log-Likelihoods\n",
    "loglikelihood_blood = -log_loss(y, model_blood.predict_proba(B), normalize=False)\n",
    "loglikelihood_psychosocial = -log_loss(y, model_psychosocial.predict_proba(P), normalize=False)\n",
    "loglikelihood_combined = -log_loss(y, model_combined.predict_proba(B_P), normalize=False)\n",
    "\n",
    "\n",
    "# Null Model: Logistic regression with only an intercept\n",
    "null_model = LogisticRegression().fit(np.ones((y.shape[0], 1)), y)\n",
    "loglikelihood_null = -log_loss(y, null_model.predict_proba(np.ones((y.shape[0], 1))), normalize=False)\n",
    "\n",
    "# Saturated Model Log-Likelihood\n",
    "# In logistic regression, log-likelihood of the saturated model is 0\n",
    "loglikelihood_saturated = 1\n",
    "\n",
    "# Compute Deviance for Each Model\n",
    "deviance_blood = 2 * (loglikelihood_saturated - loglikelihood_blood)\n",
    "deviance_psychosocial = 2 * (loglikelihood_saturated - loglikelihood_psychosocial)\n",
    "deviance_combined = 2 * (loglikelihood_saturated - loglikelihood_combined)\n",
    "deviance_null = 2 * (loglikelihood_saturated - loglikelihood_null)\n",
    "\n",
    "# Compute D^2 for each model\n",
    "D2_blood = 1 - (deviance_blood / deviance_null)\n",
    "D2_psychosocial = 1 - (deviance_psychosocial / deviance_null)\n",
    "D2_combined = 1 - (deviance_combined / deviance_null)\n",
    "\n",
    "# Results\n",
    "print(\"D2 Blood Data:\", D2_blood)\n",
    "print(\"D2 Psychosocial Data:\", D2_psychosocial)\n",
    "print(\"D2 Combined Data:\", D2_combined)\n",
    "\n",
    "# Decompose the explained deviance\n",
    "delta_D2_p = D2_combined - D2_blood  # Unique deviance explained by psychosocial data\n",
    "delta_D2_b = D2_combined - D2_psychosocial  # Unique deviance explained by blood data\n",
    "D2_intersect = D2_combined - delta_D2_b - delta_D2_p  # Intersection of blood and psychosocial data\n",
    "\n",
    "# Results\n",
    "print(\"Delta D2 (Psychosocial Data):\", delta_D2_p)\n",
    "print(\"Delta D2 (Blood Data):\", delta_D2_b)\n",
    "print(\"D2 Intersection:\", D2_intersect)"
   ]
  },
  {
   "cell_type": "code",
   "execution_count": 608,
   "id": "a6cd3e98-8871-41e6-be75-71905da74104",
   "metadata": {},
   "outputs": [
    {
     "data": {
      "image/png": "[encoded data removed]",
      "text/plain": [
       "<Figure size 255x255 with 1 Axes>"
      ]
     },
     "metadata": {},
     "output_type": "display_data"
    }
   ],
   "source": [
    "fig, axs = plt.subplots(figsize=(.85,.85))\n",
    "# sns.set_style(\"white\")\n",
    "\n",
    "# Values for the Venn diagram\n",
    "delta_d2_psychosocial = delta_D2_p\n",
    "delta_d2_blood = delta_D2_b\n",
    "d2_intersection = D2_intersect\n",
    "\n",
    "# The actual sizes for Venn diagram areas should be proportional to the values\n",
    "# Since Venn diagram circles areas (not radii) are used to show the size, we use sqrt to simulate the area representation\n",
    "psychosocial_size = np.sqrt(delta_d2_psychosocial)\n",
    "blood_size = np.sqrt(delta_d2_blood)\n",
    "intersection_size = np.sqrt(d2_intersection)\n",
    "\n",
    "psychosocial_size = delta_d2_psychosocial\n",
    "blood_size = delta_d2_blood\n",
    "intersection_size = d2_intersection\n",
    "\n",
    "# Calculate the sizes for the Venn diagram\n",
    "# Venn2 requires the sizes of the two circles and their intersection\n",
    "venn_sizes = (blood_size, psychosocial_size, intersection_size)\n",
    "\n",
    "font = 7\n",
    "v = venn2(ax=axs, subsets = venn_sizes, set_labels = ('',''), set_colors=('#9EB9F3', '#C0BFC9'), alpha=0.8) #.get_patch_by_id('111').set_color('grey')\n",
    "c = venn2_circles(ax=axs, subsets = venn_sizes, linewidth=.25, color = 'k')\n",
    "\n",
    "# Manually set the labels to the original values\n",
    "v.get_label_by_id('10').set_text(f\"{delta_d2_blood:.3f}\")\n",
    "v.get_label_by_id('01').set_text(f\"{delta_d2_psychosocial:.3f}\")\n",
    "v.get_label_by_id('11').set_text(f\"{d2_intersection:.3f}\")\n",
    "\n",
    "for text in v.set_labels:\n",
    "    text.set_fontsize(6)\n",
    "for text in v.subset_labels:\n",
    "    text.set_fontsize(6)\n",
    "\n",
    "fig.savefig(\"/Users/Patty/Desktop/Biomarker_Paper/Fig_2_Diagnoses/CP_blood_venn.pdf\", \n",
    "        transparent=True,dpi=300,bbox_inches='tight')"
   ]
  },
  {
   "cell_type": "code",
   "execution_count": 733,
   "id": "d9effb50-c783-4af6-8b0b-1447f9bea076",
   "metadata": {},
   "outputs": [
    {
     "data": {
      "image/png": "[encoded data removed]",
      "text/plain": [
       "<Figure size 45x135 with 1 Axes>"
      ]
     },
     "metadata": {},
     "output_type": "display_data"
    }
   ],
   "source": [
    "def plot_stacked_bar_simple(deviances, labels, colors):\n",
    "    \"\"\"\n",
    "    Plot a simple stacked bar chart of deviance explained without labels, title, and legend.\n",
    "\n",
    "    :param deviances: List of deviance values for each component.\n",
    "    :param labels: List of labels for each component.\n",
    "    :param colors: List of colors for each component.\n",
    "    \"\"\"\n",
    "    if len(deviances) != len(labels) or len(labels) != len(colors):\n",
    "        raise ValueError(\"The length of deviances, labels, and colors must be the same.\")\n",
    "\n",
    "    # Create stacked bar plot\n",
    "    fig,ax = plt.subplots(figsize=(.15, .45))\n",
    "    bottom = 0\n",
    "    for deviance, color in zip(deviances, colors):\n",
    "        ax.bar([''], deviance, bottom=bottom, color=color, edgecolor='k', linewidth=.1)\n",
    "        bottom += deviance\n",
    "\n",
    "    # Show plot\n",
    "    sns.despine(left=True,bottom=False,right=False)\n",
    "    ax.yaxis.tick_right()  # Move y-axis ticks to the right\n",
    "    ax.set_ylim(0,.2)\n",
    "    plt.xticks([], [])\n",
    "    for spine in ax.spines.values():\n",
    "        spine.set_linewidth(.5) \n",
    "    ax.tick_params(axis='both', which='both',labelsize=4.5,length=0)\n",
    "    plt.show()\n",
    "    \n",
    "    \n",
    "    fig.savefig(\"/Users/Patty/Desktop/Biomarker_Paper/Fig_2_Diagnoses/bar_CP_blood.pdf\", \n",
    "            transparent=True,dpi=300,bbox_inches='tight')\n",
    "\n",
    "# Example usage\n",
    "deviances = [delta_D2_p, D2_intersect, delta_D2_b]\n",
    "colors = ['#C0BFC9', '#F7FFFF', '#9EB9F3']\n",
    "\n",
    "plot_stacked_bar_simple(deviances, labels, colors)"
   ]
  },
  {
   "cell_type": "markdown",
   "id": "7834a85b-6c7b-4dae-9d4a-aab9dd63854e",
   "metadata": {},
   "source": [
    "## Calculate deviance explained for CP models based on brain and psychosocial features"
   ]
  },
  {
   "cell_type": "code",
   "execution_count": 20,
   "id": "c343ebb9-98c6-4fed-8693-46c4c15caca9",
   "metadata": {},
   "outputs": [
    {
     "name": "stdout",
     "output_type": "stream",
     "text": [
      "D2 Brain Data: 0.006411491907555744\n",
      "D2 Psychosocial Data: 0.043789216721218716\n",
      "D2 Combined Data: 0.048225288061922944\n",
      "Delta D2 (Psychosocial Data): 0.0418137961543672\n",
      "Delta D2 (Brain Data): 0.0044360713407042285\n",
      "D2 Intersection: 0.0019754205668515157\n"
     ]
    }
   ],
   "source": [
    "brain_cp = pd.DataFrame(np.concatenate([pain_T2[i]['roc_curve'] for i in pain_T2.keys() if 'ChronicPain_Stacked' in i],axis=1),index=['eid','CP','prob_brain']).T.groupby('eid').mean()\n",
    "psych_cp = pd.DataFrame(np.concatenate([pain_T2[i]['roc_curve'] for i in pain_T2.keys() if 'ChronicPain_Psycho' in i],axis=1),index=['eid','CP','prob_psych']).T.groupby('eid').mean()\n",
    "combined_df = brain_cp.merge(psych_cp,on='eid')\n",
    "combined_df[['prob_brain','prob_psych']] = np.where(combined_df[['prob_brain','prob_psych']]>0.5,1,0)\n",
    "\n",
    "combined_df = pd.concat([combined_df[combined_df['CP_x'] == 1],combined_df[combined_df['CP_x'] == 0].sample(int(combined_df.CP_x.sum()))])\n",
    "    \n",
    "B = combined_df[['prob_brain']].values\n",
    "P = combined_df[['prob_psych']].values\n",
    "B_P = np.concatenate([B, P], axis=1)\n",
    "y = combined_df['CP_x'].values\n",
    "\n",
    "# Fit Models\n",
    "model_brain = LogisticRegression().fit(B, y)\n",
    "model_psychosocial = LogisticRegression().fit(P, y)\n",
    "model_combined = LogisticRegression().fit(B_P, y)\n",
    "\n",
    "# Compute Log-Likelihoods\n",
    "loglikelihood_brain = -log_loss(y, model_brain.predict_proba(B), normalize=False)\n",
    "loglikelihood_psychosocial = -log_loss(y, model_psychosocial.predict_proba(P), normalize=False)\n",
    "loglikelihood_combined = -log_loss(y, model_combined.predict_proba(B_P), normalize=False)\n",
    "\n",
    "\n",
    "# Null Model: Logistic regression with only an intercept\n",
    "null_model = LogisticRegression().fit(np.ones((y.shape[0], 1)), y)\n",
    "loglikelihood_null = -log_loss(y, null_model.predict_proba(np.ones((y.shape[0], 1))), normalize=False)\n",
    "\n",
    "# Saturated Model Log-Likelihood\n",
    "# In logistic regression, log-likelihood of the saturated model is 0\n",
    "loglikelihood_saturated = 1\n",
    "\n",
    "# Compute Deviance for Each Model\n",
    "deviance_brain = 2 * (loglikelihood_saturated - loglikelihood_brain)\n",
    "deviance_psychosocial = 2 * (loglikelihood_saturated - loglikelihood_psychosocial)\n",
    "deviance_combined = 2 * (loglikelihood_saturated - loglikelihood_combined)\n",
    "deviance_null = 2 * (loglikelihood_saturated - loglikelihood_null)\n",
    "\n",
    "# Compute D^2 for each model\n",
    "D2_brain = 1 - (deviance_brain / deviance_null)\n",
    "D2_psychosocial = 1 - (deviance_psychosocial / deviance_null)\n",
    "D2_combined = 1 - (deviance_combined / deviance_null)\n",
    "\n",
    "# Results\n",
    "print(\"D2 Brain Data:\", D2_brain)\n",
    "print(\"D2 Psychosocial Data:\", D2_psychosocial)\n",
    "print(\"D2 Combined Data:\", D2_combined)\n",
    "\n",
    "# Decompose the explained deviance\n",
    "delta_D2_p = D2_combined - D2_brain  # Unique deviance explained by psychosocial data\n",
    "delta_D2_b = D2_combined - D2_psychosocial  # Unique deviance explained by brain data\n",
    "D2_intersect = D2_combined - delta_D2_b - delta_D2_p  # Intersection of brain and psychosocial data\n",
    "\n",
    "# Results\n",
    "print(\"Delta D2 (Psychosocial Data):\", delta_D2_p)\n",
    "print(\"Delta D2 (Brain Data):\", delta_D2_b)\n",
    "print(\"D2 Intersection:\", D2_intersect)"
   ]
  },
  {
   "cell_type": "code",
   "execution_count": 611,
   "id": "a763e5c4-951d-46af-9cf3-07b7d9ff38a5",
   "metadata": {},
   "outputs": [
    {
     "data": {
      "image/png": "[encoded data removed]",
      "text/plain": [
       "<Figure size 255x255 with 1 Axes>"
      ]
     },
     "metadata": {},
     "output_type": "display_data"
    }
   ],
   "source": [
    "fig, axs = plt.subplots(figsize=(.85,.85))\n",
    "# sns.set_style(\"white\")\n",
    "\n",
    "# Values for the Venn diagram\n",
    "delta_d2_psychosocial = delta_D2_p\n",
    "delta_d2_brain = delta_D2_b\n",
    "d2_intersection = D2_intersect\n",
    "\n",
    "# The actual sizes for Venn diagram areas should be proportional to the values\n",
    "# Since Venn diagram circles areas (not radii) are used to show the size, we use sqrt to simulate the area representation\n",
    "psychosocial_size = np.sqrt(delta_d2_psychosocial)\n",
    "brain_size = np.sqrt(delta_d2_brain)\n",
    "intersection_size = np.sqrt(d2_intersection)\n",
    "\n",
    "psychosocial_size = delta_d2_psychosocial\n",
    "brain_size = delta_d2_brain\n",
    "intersection_size = d2_intersection\n",
    "\n",
    "# Calculate the sizes for the Venn diagram\n",
    "# Venn2 requires the sizes of the two circles and their intersection\n",
    "venn_sizes = (brain_size, psychosocial_size, intersection_size)\n",
    "\n",
    "font = 7\n",
    "v = venn2(ax=axs, subsets = venn_sizes, set_labels = ('',''), set_colors=('#87C55F', '#C0BFC9'), alpha=0.8) #.get_patch_by_id('111').set_color('grey')\n",
    "c = venn2_circles(ax=axs, subsets = venn_sizes, linewidth=.25, color = 'k')\n",
    "\n",
    "# Manually set the labels to the original values\n",
    "v.get_label_by_id('10').set_text(f\"{delta_d2_brain:.3f}\")\n",
    "v.get_label_by_id('01').set_text(f\"{delta_d2_psychosocial:.3f}\")\n",
    "v.get_label_by_id('11').set_text(f\"{d2_intersection:.3f}\")\n",
    "    \n",
    "axs.set_title('', fontdict={'fontsize': font})\n",
    "for text in v.set_labels: \n",
    "    text.set_fontsize(font)\n",
    "\n",
    "fig.savefig(\"/Users/Patty/Desktop/Biomarker_Paper/Fig_2_Diagnoses/CP_brain_venn.pdf\", \n",
    "        transparent=True,dpi=300,bbox_inches='tight')"
   ]
  },
  {
   "cell_type": "code",
   "execution_count": 732,
   "id": "c7b735e1-8a96-42cc-ba6e-7778ea54921d",
   "metadata": {},
   "outputs": [
    {
     "data": {
      "image/png": "[encoded data removed]",
      "text/plain": [
       "<Figure size 45x135 with 1 Axes>"
      ]
     },
     "metadata": {},
     "output_type": "display_data"
    }
   ],
   "source": [
    "def plot_stacked_bar_simple(deviances, labels, colors):\n",
    "    \"\"\"\n",
    "    Plot a simple stacked bar chart of deviance explained without labels, title, and legend.\n",
    "\n",
    "    :param deviances: List of deviance values for each component.\n",
    "    :param labels: List of labels for each component.\n",
    "    :param colors: List of colors for each component.\n",
    "    \"\"\"\n",
    "    if len(deviances) != len(labels) or len(labels) != len(colors):\n",
    "        raise ValueError(\"The length of deviances, labels, and colors must be the same.\")\n",
    "\n",
    "    # Create stacked bar plot\n",
    "    fig,ax = plt.subplots(figsize=(.15, .45))\n",
    "    bottom = 0\n",
    "    for deviance, color in zip(deviances, colors):\n",
    "        ax.bar([''], deviance, bottom=bottom, color=color, edgecolor='k', linewidth=.1)\n",
    "        bottom += deviance\n",
    "\n",
    "    # Show plot\n",
    "    sns.despine(left=True,bottom=False,right=False)\n",
    "    ax.yaxis.tick_right()  # Move y-axis ticks to the right\n",
    "    ax.set_ylim(0,.2)\n",
    "    plt.xticks([], [])\n",
    "    for spine in ax.spines.values():\n",
    "        spine.set_linewidth(.5) \n",
    "    ax.tick_params(axis='both', which='both',labelsize=4.5,length=0)\n",
    "    plt.show()\n",
    "    \n",
    "    \n",
    "    fig.savefig(\"/Users/Patty/Desktop/Biomarker_Paper/Fig_2_Diagnoses/bar_CP_brain.pdf\", \n",
    "            transparent=True,dpi=300,bbox_inches='tight')\n",
    "\n",
    "# Example usage\n",
    "deviances = [delta_D2_p, D2_intersect, delta_D2_b]\n",
    "colors = ['#C0BFC9', '#F7FFFF', '#87C55F']\n",
    "plot_stacked_bar_simple(deviances, labels, colors)"
   ]
  },
  {
   "cell_type": "markdown",
   "id": "08720189-8d37-4211-bc0c-0730e697a348",
   "metadata": {},
   "source": [
    "## Calculate deviance explained for rheumatoid arthritis model based on blood and psychosocial features"
   ]
  },
  {
   "cell_type": "code",
   "execution_count": 21,
   "id": "45156229-10bd-4a89-a407-c347c022c1c5",
   "metadata": {},
   "outputs": [],
   "source": [
    "t0 = pd.read_pickle('/Users/Patty/Desktop/Biomarker_Paper/Pickled_Models/Diagnoses/Deviance/Deviance_T0_diagnoses_clf-LR_lin.pickle')\n"
   ]
  },
  {
   "cell_type": "code",
   "execution_count": 22,
   "id": "9ca20d76-d99a-4d20-a4ef-38173f10a2f1",
   "metadata": {},
   "outputs": [
    {
     "name": "stdout",
     "output_type": "stream",
     "text": [
      "D2 Blood Data: 0.12736919324774987\n",
      "D2 Psychosocial Data: 0.10906052568253899\n",
      "D2 Combined Data: 0.1851388664356225\n",
      "Delta D2 (Psychosocial Data): 0.05776967318787263\n",
      "Delta D2 (Blood Data): 0.0760783407530835\n",
      "D2 Intersection: 0.05129085249466636\n"
     ]
    }
   ],
   "source": [
    "dx = 'rheumatoid arthritis'\n",
    "B = np.where(np.concatenate([t0[i]['roc_curve'][2] for i in t0.keys() if f'{dx}_Blood_onl' in i]) > 0.5, 1, 0).reshape(-1, 1)\n",
    "P = np.where(np.concatenate([t0[i]['roc_curve'][2] for i in t0.keys() if f'{dx}_Psychosoci' in i]) > 0.5, 1, 0).reshape(-1, 1)\n",
    "B_P = np.concatenate([B, P], axis=1)\n",
    "# B_P = np.where(np.concatenate([t0[i]['roc_curve'][2] for i in t0.keys() if f'{dx}_Blood_Psych' in i]) > 0.5, 1, 0).reshape(-1, 1)\n",
    "y = np.concatenate([t0[i]['roc_curve'][1] for i in t0.keys() if f'{dx}_Blood_onl' in i]).reshape(-1, 1)\n",
    "\n",
    "# Fit Models\n",
    "model_blood = LogisticRegression().fit(B, y)\n",
    "model_psychosocial = LogisticRegression().fit(P, y)\n",
    "model_combined = LogisticRegression().fit(B_P, y)\n",
    "\n",
    "# Compute Log-Likelihoods\n",
    "loglikelihood_blood = -log_loss(y, model_blood.predict_proba(B), normalize=False)\n",
    "loglikelihood_psychosocial = -log_loss(y, model_psychosocial.predict_proba(P), normalize=False)\n",
    "loglikelihood_combined = -log_loss(y, model_combined.predict_proba(B_P), normalize=False)\n",
    "\n",
    "\n",
    "# Null Model: Logistic regression with only an intercept\n",
    "null_model = LogisticRegression().fit(np.ones((y.shape[0], 1)), y)\n",
    "loglikelihood_null = -log_loss(y, null_model.predict_proba(np.ones((y.shape[0], 1))), normalize=False)\n",
    "\n",
    "# Saturated Model Log-Likelihood\n",
    "# In logistic regression, log-likelihood of the saturated model is 0\n",
    "loglikelihood_saturated = 1\n",
    "\n",
    "# Compute Deviance for Each Model\n",
    "deviance_blood = 2 * (loglikelihood_saturated - loglikelihood_blood)\n",
    "deviance_psychosocial = 2 * (loglikelihood_saturated - loglikelihood_psychosocial)\n",
    "deviance_combined = 2 * (loglikelihood_saturated - loglikelihood_combined)\n",
    "deviance_null = 2 * (loglikelihood_saturated - loglikelihood_null)\n",
    "\n",
    "# Compute D^2 for each model\n",
    "D2_blood = 1 - (deviance_blood / deviance_null)\n",
    "D2_psychosocial = 1 - (deviance_psychosocial / deviance_null)\n",
    "D2_combined = 1 - (deviance_combined / deviance_null)\n",
    "\n",
    "# Results\n",
    "print(\"D2 Blood Data:\", D2_blood)\n",
    "print(\"D2 Psychosocial Data:\", D2_psychosocial)\n",
    "print(\"D2 Combined Data:\", D2_combined)\n",
    "\n",
    "# Decompose the explained deviance\n",
    "delta_D2_p = D2_combined - D2_blood  # Unique deviance explained by psychosocial data\n",
    "delta_D2_b = D2_combined - D2_psychosocial  # Unique deviance explained by blood data\n",
    "D2_intersect = D2_combined - delta_D2_b - delta_D2_p  # Intersection of blood and psychosocial data\n",
    "\n",
    "# Results\n",
    "print(\"Delta D2 (Psychosocial Data):\", delta_D2_p)\n",
    "print(\"Delta D2 (Blood Data):\", delta_D2_b)\n",
    "print(\"D2 Intersection:\", D2_intersect)\n"
   ]
  },
  {
   "cell_type": "code",
   "execution_count": 23,
   "id": "85e64dbf-490d-4603-92f7-38b6e87dc730",
   "metadata": {},
   "outputs": [
    {
     "data": {
      "image/png": "[encoded data removed]",
      "text/plain": [
       "<Figure size 255x255 with 1 Axes>"
      ]
     },
     "metadata": {},
     "output_type": "display_data"
    }
   ],
   "source": [
    "fig, axs = plt.subplots(figsize=(.85,.85))\n",
    "# sns.set_style(\"white\")\n",
    "\n",
    "# Values for the Venn diagram\n",
    "delta_d2_psychosocial = delta_D2_p\n",
    "delta_d2_blood = delta_D2_b\n",
    "d2_intersection = D2_intersect\n",
    "\n",
    "# The actual sizes for Venn diagram areas should be proportional to the values\n",
    "# Since Venn diagram circles areas (not radii) are used to show the size, we use sqrt to simulate the area representation\n",
    "psychosocial_size = np.sqrt(delta_d2_psychosocial)\n",
    "blood_size = np.sqrt(delta_d2_blood)\n",
    "intersection_size = np.sqrt(d2_intersection)\n",
    "\n",
    "psychosocial_size = delta_d2_psychosocial\n",
    "blood_size = delta_d2_blood\n",
    "intersection_size = d2_intersection\n",
    "\n",
    "# Calculate the sizes for the Venn diagram\n",
    "# Venn2 requires the sizes of the two circles and their intersection\n",
    "venn_sizes = (blood_size, psychosocial_size, intersection_size)\n",
    "\n",
    "font = 7\n",
    "v = venn2(ax=axs, subsets = venn_sizes, set_labels = ('',''), set_colors=('#9EB9F3', '#C0BFC9'), alpha=0.8) #.get_patch_by_id('111').set_color('grey')\n",
    "c = venn2_circles(ax=axs, subsets = venn_sizes, linewidth=.25, color = 'k')\n",
    "\n",
    "# Manually set the labels to the original values\n",
    "v.get_label_by_id('10').set_text(f\"{delta_d2_blood:.3f}\")\n",
    "v.get_label_by_id('01').set_text(f\"{delta_d2_psychosocial:.3f}\")\n",
    "v.get_label_by_id('11').set_text(f\"{d2_intersection:.3f}\")\n",
    "    \n",
    "axs.set_title('', fontdict={'fontsize': font})\n",
    "for text in v.set_labels: \n",
    "    text.set_fontsize(font)\n",
    "\n",
    "fig.savefig(\"/Users/Patty/Desktop/Biomarker_Paper/Fig_2_Diagnoses/RA_venn.pdf\", \n",
    "        transparent=True,dpi=300,bbox_inches='tight')"
   ]
  },
  {
   "cell_type": "code",
   "execution_count": 726,
   "id": "2d2eac22-3e0d-4fe9-be23-9b1428007a74",
   "metadata": {},
   "outputs": [
    {
     "data": {
      "image/png": "[encoded data removed]",
      "text/plain": [
       "<Figure size 45x135 with 1 Axes>"
      ]
     },
     "metadata": {},
     "output_type": "display_data"
    }
   ],
   "source": [
    "def plot_stacked_bar_simple(deviances, labels, colors):\n",
    "    \"\"\"\n",
    "    Plot a simple stacked bar chart of deviance explained without labels, title, and legend.\n",
    "\n",
    "    :param deviances: List of deviance values for each component.\n",
    "    :param labels: List of labels for each component.\n",
    "    :param colors: List of colors for each component.\n",
    "    \"\"\"\n",
    "    if len(deviances) != len(labels) or len(labels) != len(colors):\n",
    "        raise ValueError(\"The length of deviances, labels, and colors must be the same.\")\n",
    "\n",
    "    # Create stacked bar plot\n",
    "    fig,ax = plt.subplots(figsize=(.15, .45))\n",
    "    bottom = 0\n",
    "    for deviance, color in zip(deviances, colors):\n",
    "        ax.bar([''], deviance, bottom=bottom, color=color, edgecolor='k', linewidth=.1)\n",
    "        bottom += deviance\n",
    "\n",
    "    # Show plot\n",
    "    sns.despine(left=True,bottom=False,right=False)\n",
    "    ax.yaxis.tick_right()  # Move y-axis ticks to the right\n",
    "    ax.set_ylim(0,.2)\n",
    "    plt.xticks([], [])\n",
    "    for spine in ax.spines.values():\n",
    "        spine.set_linewidth(.5) \n",
    "    ax.tick_params(axis='both', which='both',labelsize=4.5,length=0)\n",
    "    plt.show()\n",
    "    \n",
    "    \n",
    "    fig.savefig(\"/Users/Patty/Desktop/Biomarker_Paper/Fig_2_Diagnoses/bar_RA.pdf\", \n",
    "            transparent=True,dpi=300,bbox_inches='tight')\n",
    "\n",
    "# Example usage\n",
    "deviances = [delta_D2_p, D2_intersect, delta_D2_b]\n",
    "colors = ['#C0BFC9', '#F7FFFF', '#9EB9F3']\n",
    "plot_stacked_bar_simple(deviances, labels, colors)"
   ]
  },
  {
   "cell_type": "markdown",
   "id": "3001dbc1-bb21-449c-a882-12fc0f00e639",
   "metadata": {},
   "source": [
    "## Calculate deviance explained for fibromyalgia model based on brain and psychosocial features"
   ]
  },
  {
   "cell_type": "code",
   "execution_count": 24,
   "id": "efa54c31-7723-4f12-911c-8c844db41bf1",
   "metadata": {},
   "outputs": [],
   "source": [
    "t2 = pd.read_pickle('/Users/Patty/Desktop/Biomarker_Paper/Pickled_Models/Diagnoses/Deviance/Deviance_T2_diagnoses_clf-LR_lin.pickle')"
   ]
  },
  {
   "cell_type": "code",
   "execution_count": 727,
   "id": "5cf4d327-71ab-45a6-8810-421c2913b9a4",
   "metadata": {},
   "outputs": [
    {
     "name": "stdout",
     "output_type": "stream",
     "text": [
      "Explained Deviance (Brain Data): 0.05096721041536438\n",
      "Explained Deviance (Psychosocial Data): 0.14611688244088772\n",
      "Explained Deviance (Combined Model): 0.1964733975997424\n",
      "Delta D2 (Psychosocial Data): 0.14550618718437802\n",
      "Delta D2 (Brain Data): 0.05035651515885467\n",
      "D2 Intersection: 0.0006106952565096968\n"
     ]
    }
   ],
   "source": [
    "from sklearn.linear_model import LogisticRegression\n",
    "from sklearn.metrics import log_loss\n",
    "import pandas as pd\n",
    "\n",
    "dx = 'fibromyalgia'\n",
    "\n",
    "brain_l = []\n",
    "psych_l = []\n",
    "comb_l = []\n",
    "\n",
    "for i in range(500): # Iterate through \n",
    "    Br = np.where(np.concatenate([t2[i]['roc_curve'][2] for i in t2.keys() if f'{dx}_Stacked' in i]) > 0.5, 1, 0).reshape(-1, 1)\n",
    "    P = np.where(np.concatenate([t2[i]['roc_curve'][2] for i in t2.keys() if f'{dx}_Psychosocial' in i]) > 0.5, 1, 0).reshape(-1, 1)\n",
    "    combined_data = np.concatenate([Br, P], axis=1)\n",
    "\n",
    "    y = np.concatenate([t2[i]['roc_curve'][1] for i in t2.keys() if f'{dx}_Bone' in i]).reshape(-1, 1)\n",
    "\n",
    "    tmp = pd.DataFrame(np.concatenate([combined_data,y],axis=1),columns=['Br','P','y'])\n",
    "    tmp = pd.concat([tmp[tmp['y'] == 1],tmp[tmp['y'] == 0].sample(int(y.sum()))])\n",
    "\n",
    "    Br = tmp[['Br']]\n",
    "    P = tmp[['P']]\n",
    "    combined_data = tmp[['Br', 'P']].values\n",
    "    y = tmp[['y']]\n",
    "\n",
    "    # Bone, brain, genetic, and psychosocial data are B, Br, G, and P respectively\n",
    "\n",
    "    # Fit logistic regression models for each data set\n",
    "    model_brain = LogisticRegression().fit(Br, y)\n",
    "    model_psychosocial = LogisticRegression().fit(P, y)\n",
    "    # Fit a combined model with all datasets\n",
    "    model_combined = LogisticRegression().fit(combined_data, y)\n",
    "\n",
    "    # Calculate log-likelihoods for each model\n",
    "    loglikelihood_brain = -log_loss(y, model_brain.predict_proba(Br), normalize=False)\n",
    "    loglikelihood_psychosocial = -log_loss(y, model_psychosocial.predict_proba(P), normalize=False)\n",
    "    loglikelihood_combined = -log_loss(y, model_combined.predict_proba(combined_data)[:,1], normalize=False)\n",
    "\n",
    "    # Null Model\n",
    "    null_model = LogisticRegression().fit(np.ones((y.shape[0], 1)), y)\n",
    "    loglikelihood_null = -log_loss(y, null_model.predict_proba(np.ones((y.shape[0], 1))), normalize=False)\n",
    "\n",
    "    # Calculate deviances\n",
    "    deviance_null = -2 * loglikelihood_null\n",
    "    deviance_brain = -2 * loglikelihood_brain\n",
    "    deviance_psychosocial = -2 * loglikelihood_psychosocial\n",
    "    deviance_combined = -2 * loglikelihood_combined\n",
    "\n",
    "    # Calculate D^2 for each model\n",
    "    D2_brain = 1 - (deviance_brain / deviance_null)\n",
    "    D2_psychosocial = 1 - (deviance_psychosocial / deviance_null)\n",
    "    D2_combined = 1 - (deviance_combined / deviance_null)\n",
    "    \n",
    "    brain_l.append(D2_brain)\n",
    "    psych_l.append(D2_psychosocial)\n",
    "    comb_l.append(D2_combined)\n",
    "\n",
    "D2_brain = np.mean(brain_l)                  \n",
    "D2_psychosocial = np.mean(psych_l)                  \n",
    "D2_combined = np.mean(comb_l)   \n",
    "                  \n",
    "# Print results\n",
    "print(\"Explained Deviance (Brain Data):\", D2_brain)\n",
    "print(\"Explained Deviance (Psychosocial Data):\", D2_psychosocial)\n",
    "print(\"Explained Deviance (Combined Model):\", D2_combined)\n",
    "\n",
    "# Decompose the explained deviance\n",
    "delta_D2_p = D2_combined - D2_brain  # Unique deviance explained by psychosocial data\n",
    "delta_D2_b = D2_combined - D2_psychosocial  # Unique deviance explained by blood data\n",
    "D2_intersect = D2_combined - delta_D2_b - delta_D2_p  # Intersection of blood and psychosocial data\n",
    "\n",
    "# Results\n",
    "print(\"Delta D2 (Psychosocial Data):\", delta_D2_p)\n",
    "print(\"Delta D2 (Brain Data):\", delta_D2_b)\n",
    "print(\"D2 Intersection:\", D2_intersect)"
   ]
  },
  {
   "cell_type": "code",
   "execution_count": 46,
   "id": "470739e6-d53e-43c3-b57f-e6dec872dfef",
   "metadata": {},
   "outputs": [
    {
     "data": {
      "image/png": "[encoded data removed]",
      "text/plain": [
       "<Figure size 255x255 with 1 Axes>"
      ]
     },
     "metadata": {},
     "output_type": "display_data"
    }
   ],
   "source": [
    "fig, axs = plt.subplots(figsize=(.85,.85))\n",
    "# sns.set_style(\"white\")\n",
    "\n",
    "# Values for the Venn diagram\n",
    "delta_d2_psychosocial = delta_D2_p\n",
    "delta_d2_brain = delta_D2_b\n",
    "d2_intersection = 0.000001 # Intersection is negligible so setting to very small number for plotting\n",
    "\n",
    "# The actual sizes for Venn diagram areas should be proportional to the values\n",
    "# Since Venn diagram circles areas (not radii) are used to show the size, we use sqrt to simulate the area representation\n",
    "psychosocial_size = np.sqrt(delta_d2_psychosocial)\n",
    "brain_size = np.sqrt(delta_d2_brain)\n",
    "intersection_size = np.sqrt(d2_intersection)\n",
    "\n",
    "# Calculate the sizes for the Venn diagram\n",
    "# Venn2 requires the sizes of the two circles and their intersection\n",
    "venn_sizes = (brain_size, psychosocial_size, intersection_size)\n",
    "\n",
    "font = 6\n",
    "v = venn2(ax=axs, subsets = venn_sizes, set_labels = ('', ''), set_colors=('#87C55F', '#C0BFC9'), alpha=0.8) #.get_patch_by_id('111').set_color('grey')\n",
    "c = venn2_circles(ax=axs, subsets = venn_sizes, linewidth=.25, color = 'k')\n",
    "\n",
    "# Manually set the labels to the original values\n",
    "v.get_label_by_id('10').set_text(f\"{delta_d2_psychosocial:.3f}\")\n",
    "v.get_label_by_id('01').set_text(f\"{delta_d2_brain:.3f}\")\n",
    "v.get_label_by_id('11').set_text(f\"{d2_intersection:.3f}\")\n",
    "    \n",
    "axs.set_title('', fontdict={'fontsize': font})\n",
    "for text in v.set_labels: \n",
    "    text.set_fontsize(font)\n",
    "\n",
    "fig.savefig(\"/Users/Patty/Desktop/Biomarker_Paper/Fig_2_Diagnoses/fibro_venn.pdf\", \n",
    "        transparent=True,dpi=300,bbox_inches='tight')"
   ]
  },
  {
   "cell_type": "code",
   "execution_count": 729,
   "id": "4b11f527-a19d-4318-89c1-826f45e6edd1",
   "metadata": {},
   "outputs": [
    {
     "data": {
      "image/png": "[encoded data removed]",
      "text/plain": [
       "<Figure size 45x135 with 1 Axes>"
      ]
     },
     "metadata": {},
     "output_type": "display_data"
    }
   ],
   "source": [
    "def plot_stacked_bar_simple(deviances, labels, colors):\n",
    "    \"\"\"\n",
    "    Plot a simple stacked bar chart of deviance explained without labels, title, and legend.\n",
    "\n",
    "    :param deviances: List of deviance values for each component.\n",
    "    :param labels: List of labels for each component.\n",
    "    :param colors: List of colors for each component.\n",
    "    \"\"\"\n",
    "    if len(deviances) != len(labels) or len(labels) != len(colors):\n",
    "        raise ValueError(\"The length of deviances, labels, and colors must be the same.\")\n",
    "\n",
    "    # Create stacked bar plot\n",
    "    fig,ax = plt.subplots(figsize=(.15, .45))\n",
    "    bottom = 0\n",
    "    for deviance, color in zip(deviances, colors):\n",
    "        ax.bar([''], deviance, bottom=bottom, color=color, edgecolor='k', linewidth=.1)\n",
    "        bottom += deviance\n",
    "\n",
    "    # Show plot\n",
    "    sns.despine(left=True,bottom=False,right=False)\n",
    "    ax.yaxis.tick_right()  # Move y-axis ticks to the right\n",
    "    ax.set_ylim(0,.2)\n",
    "    plt.xticks([], [])\n",
    "    for spine in ax.spines.values():\n",
    "        spine.set_linewidth(.5) \n",
    "    ax.tick_params(axis='both', which='both',labelsize=4.5,length=0)\n",
    "    plt.show()\n",
    "    \n",
    "    \n",
    "    fig.savefig(\"/Users/Patty/Desktop/Biomarker_Paper/Fig_2_Diagnoses/bar_fibro.pdf\", \n",
    "            transparent=True,dpi=300,bbox_inches='tight')\n",
    "\n",
    "# Example usage\n",
    "deviances = [delta_D2_p, D2_intersect, delta_D2_b]\n",
    "colors = ['#C0BFC9', '#F7FFFF', '#87C55F']\n",
    "plot_stacked_bar_simple(deviances, labels, colors)"
   ]
  }
 ],
 "metadata": {
  "kernelspec": {
   "display_name": "Python 3 (ipykernel)",
   "language": "python",
   "name": "python3"
  },
  "language_info": {
   "codemirror_mode": {
    "name": "ipython",
    "version": 3
   },
   "file_extension": ".py",
   "mimetype": "text/x-python",
   "name": "python",
   "nbconvert_exporter": "python",
   "pygments_lexer": "ipython3",
   "version": "3.8.13"
  }
 },
 "nbformat": 4,
 "nbformat_minor": 5
}
