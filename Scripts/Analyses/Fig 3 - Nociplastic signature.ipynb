{
 "cells": [
  {
   "cell_type": "markdown",
   "id": "55c8db41-22f5-4c47-b7e0-a588eeb9db65",
   "metadata": {},
   "source": [
    "# Fig 3 Deriving and validation a multivariate neurological signature of of nociplastic pain\n",
    "\n",
    "### This notebook contains the analyses code for figure 3:\n",
    "- Calculate and plot the overlapping sample sizes for the 3 nociplastic conditions (fibromyalgia, chronic fatigue syndrome, and chronic widespread pain)\n",
    "- Calculate and plot the deviance explained for models trained to predict fibromyalgia based on brain, psychosocial, and their union\n",
    "- Calculate and plot the deviance explained for models trained to predict chronic pain based on blood/brain, psychosocial, and their union"
   ]
  },
  {
   "cell_type": "code",
   "execution_count": 8,
   "id": "20e5eb02-3f73-4829-bcba-1b4249bb7619",
   "metadata": {
    "tags": []
   },
   "outputs": [],
   "source": [
    "import pandas as pd\n",
    "import seaborn as sns\n",
    "import matplotlib.pyplot as plt\n",
    "import matplotlib as mpl\n",
    "import numpy as np\n",
    "from scipy.stats import zscore\n",
    "from scipy import stats\n",
    "import palettable\n",
    "from sklearn.metrics import roc_auc_score\n",
    "import nibabel as nib\n",
    "from nilearn.connectome import vec_to_sym_matrix\n",
    "from sklearn.preprocessing import MaxAbsScaler\n",
    "\n",
    "home_dir = '/Users/Patty/Desktop/EVP_lab/'\n",
    "\n",
    "fs = 8\n",
    "w = 0.5\n",
    "sns.set_context(rc={\"font.size\":fs})   \n",
    "plt.rcParams['font.size'] = fs\n",
    "plt.rcParams[\"font.family\"] = \"Helvetica\"\n",
    "plt.rcParams['figure.dpi'] = 300\n",
    "plt.rc('mathtext',**{'default':'regular'})\n",
    "plt.rcParams['xtick.direction'] = 'out'\n",
    "plt.rcParams['ytick.direction'] = 'out'\n",
    "plt.rcParams['xtick.major.size'] = 2.5\n",
    "plt.rcParams['ytick.major.size'] = 2.5\n",
    "plt.rcParams['xtick.major.pad'] = '1.5'\n",
    "plt.rcParams['ytick.major.pad'] = '1.5'\n",
    "plt.rcParams['xtick.major.width'] = w\n",
    "plt.rcParams['ytick.major.width'] = w\n",
    "plt.rcParams['xtick.minor.size'] = 2.5\n",
    "plt.rcParams['ytick.minor.size'] = 2.5\n",
    "plt.rcParams['xtick.minor.pad'] = '1.5'\n",
    "plt.rcParams['ytick.minor.pad'] = '1.5'\n",
    "plt.rcParams['xtick.minor.width'] = w\n",
    "plt.rcParams['ytick.minor.width'] = w\n",
    "plt.rcParams['axes.linewidth'] = w\n",
    "colors = ['#66c2a5','#fc8d62','#8da0cb','#e78ac3','#a6d854','#ffd92f']\n",
    "\n",
    "# Pastel2\n",
    "color_mapping = {\n",
    " 'Blood': '#9EB9F3',\n",
    " 'Bone': '#F89C74',\n",
    " 'PRS': '#DCB0F2',\n",
    " 'Stacked': '#87C55F',\n",
    " 'Psychosocial': '#C0BFC9'}\n"
   ]
  },
  {
   "cell_type": "code",
   "execution_count": 2,
   "id": "b0e0132f-1406-437e-88b8-919c39f75730",
   "metadata": {},
   "outputs": [],
   "source": [
    "# Load machine learning models trained to predict nociplastic conditions\n",
    "noci = pd.read_pickle('/Users/Patty/Desktop/Biomarker_Paper/Pickled_Models/Diagnoses/Nociplastic/Nociplastic_diagnoses_clf-LR_lin.pickle')"
   ]
  },
  {
   "cell_type": "code",
   "execution_count": 3,
   "id": "d13cafed-1799-4edb-9d1e-d186d255ae50",
   "metadata": {},
   "outputs": [],
   "source": [
    "# Load in necessary UKB data\n",
    "home_dir = '/Users/Patty/Desktop/EVP_lab/'\n",
    "\n",
    "cols = ['eid', \n",
    "        # T0\n",
    "        'ChronicPain_T0',\n",
    "        'ChronicWidespreadPain_T0', \n",
    "        'ChronicHeadaches_T0',\n",
    "        'ChronicNeckShoulderPain_T0', \n",
    "        'ChronicHipPain_T0', \n",
    "        'ChronicBackPain_T0', \n",
    "        'ChronicStomachAbdominalPain_T0', \n",
    "        'ChronicKneePain_T0',\n",
    "        'ChronicFacialPain_T0', \n",
    "        'NumberChronicPainTypes_T0',\n",
    "        # T1\n",
    "        'ChronicWidespreadPain_T1', \n",
    "        'NumberChronicPainTypes_T1',\n",
    "        # T2\n",
    "        'ChronicPain_T2',\n",
    "        'ChronicWidespreadPain_T2', \n",
    "        'ChronicHeadaches_T2',\n",
    "        'ChronicNeckShoulderPain_T2', \n",
    "        'ChronicHipPain_T2', \n",
    "        'ChronicBackPain_T2', \n",
    "        'ChronicStomachAbdominalPain_T2', \n",
    "        'ChronicKneePain_T2',\n",
    "        'ChronicFacialPain_T2', \n",
    "        'NumberChronicPainTypes_T2',\n",
    "        'NumberReportedNonCancer_T0',\n",
    "        'NumberReportedNonCancer_T1',\n",
    "        'NumberReportedNonCancer_T2',\n",
    "       # Impact\n",
    "        'OverallHealthRating_T0',\n",
    "        'UnableWorkDueSicknessDisability_T0',\n",
    "        'OverallHealthRating_T2',\n",
    "        'UnableWorkDueSicknessDisability_T2',\n",
    "       # Additional\n",
    "       'Age_T0',\n",
    "        'Age_T1',\n",
    "       'Age_T2',\n",
    "       'Sex_T0']\n",
    "UKB = pd.read_csv(home_dir + 'UKB_NoBrain_500K_V4.csv',low_memory=False,usecols=cols) #UKB demographic data\n",
    "UKB = UKB.drop(columns=UKB.filter(like='T0').columns[113:172])\n",
    "UKB.loc[UKB['ChronicWidespreadPain_T0'] == 1, 'NumberChronicPainTypes_T0'] = 7\n",
    "UKB.loc[UKB['NumberChronicPainTypes_T0'] > 4, 'NumberChronicPainTypes_T0'] = 4\n",
    "UKB.loc[UKB['ChronicWidespreadPain_T1'] == 1, 'NumberChronicPainTypes_T1'] = 7\n",
    "UKB.loc[UKB['NumberChronicPainTypes_T1'] > 4, 'NumberChronicPainTypes_T1'] = 4\n",
    "UKB.loc[UKB['ChronicWidespreadPain_T2'] == 1, 'NumberChronicPainTypes_T2'] = 7\n",
    "UKB.loc[UKB['NumberChronicPainTypes_T2'] > 4, 'NumberChronicPainTypes_T2'] = 4\n",
    "\n",
    "# NCI Data\n",
    "NCI = pd.read_csv(home_dir + 'NCI_combined.csv')\n",
    "\n",
    "#Only take UKB eids in brain eids\n",
    "UKB = UKB.merge(NCI,on='eid')\n",
    "\n",
    "UKB['NCI_Free_T0'] = np.where(UKB.NCI_T0 == 0,1,0)\n",
    "UKB['NCI_Free_T1'] = np.where(UKB.NCI_T1 == 0,1,0)\n",
    "UKB['NCI_Free_T2'] = np.where(UKB.NCI_T2 == 0,1,0)\n",
    "UKB['NCI_Free_T3'] = np.where(UKB.NCI_T3 == 0,1,0)"
   ]
  },
  {
   "cell_type": "markdown",
   "id": "dd8cf5f4-f9b1-4300-b780-74dc2783bc54",
   "metadata": {},
   "source": [
    "## Nociplastic Venn diagram"
   ]
  },
  {
   "cell_type": "code",
   "execution_count": 5,
   "id": "36b8af45-1aea-46df-be78-5970642ecf23",
   "metadata": {},
   "outputs": [],
   "source": [
    "# Extract subjects with nociplastic pain conditions\n",
    "noci_eids = pd.concat([pd.DataFrame(noci[i]['roc_curve'],index=['eid','y','prob']) for i in noci.keys() if 'Nociplastic_Stacked' in i],axis=1).T.eid\n",
    "NCI_noci = NCI[['eid','NCI_fibromyalgia_T2','NCI_chronic fatigue syndrome_T2']].merge(UKB[['eid','ChronicWidespreadPain_T2']])\n",
    "NCI_noci = NCI_noci[NCI_noci.eid.isin(noci_eids)]\n",
    "\n",
    "# Filter UKB by subjects with brain imaging data\n",
    "eids = pd.read_csv('/Users/Patty/Desktop/EVP_lab/NonBio_T0.csv',usecols=['eid'])\n",
    "UKB = UKB[UKB.eid.isin(eids.eid)]"
   ]
  },
  {
   "cell_type": "code",
   "execution_count": 9,
   "id": "1378eb18-7958-41b1-adad-817e4e74e6f1",
   "metadata": {},
   "outputs": [
    {
     "data": {
      "image/png": "[encoded data removed]",
      "text/plain": [
       "<Figure size 525x525 with 1 Axes>"
      ]
     },
     "metadata": {},
     "output_type": "display_data"
    }
   ],
   "source": [
    "from matplotlib_venn import venn3, venn3_circles\n",
    "import matplotlib.pyplot as plt\n",
    "import seaborn as sns\n",
    "\n",
    "# Calculate the counts for each condition\n",
    "fibromyalgia_count = NCI_noci['NCI_fibromyalgia_T2'].sum()\n",
    "chronic_fatigue_syndrome_count = NCI_noci['NCI_chronic fatigue syndrome_T2'].sum()\n",
    "widespread_pain_count = NCI_noci['ChronicWidespreadPain_T2'].sum()\n",
    "\n",
    "# Calculate the intersections\n",
    "fibro_and_fatigue = NCI_noci[(NCI_noci['NCI_fibromyalgia_T2'] == 1) & (NCI_noci['NCI_chronic fatigue syndrome_T2'] == 1)].shape[0]\n",
    "fibro_and_pain = NCI_noci[(NCI_noci['NCI_fibromyalgia_T2'] == 1) & (NCI_noci['ChronicWidespreadPain_T2'] == 1)].shape[0]\n",
    "fatigue_and_pain = NCI_noci[(NCI_noci['NCI_chronic fatigue syndrome_T2'] == 1) & (NCI_noci['ChronicWidespreadPain_T2'] == 1)].shape[0]\n",
    "\n",
    "# Calculate the intersection of all three conditions\n",
    "all_three = NCI_noci[(NCI_noci['NCI_fibromyalgia_T2'] == 1) & (NCI_noci['NCI_chronic fatigue syndrome_T2'] == 1) & (NCI_noci['ChronicWidespreadPain_T2'] == 1)].shape[0]\n",
    "\n",
    "\n",
    "# Create the Venn diagram\n",
    "fig = plt.figure(figsize=(1.75, 1.75))\n",
    "venn = venn3(subsets=(fibromyalgia_count, chronic_fatigue_syndrome_count, fibro_and_fatigue,\n",
    "                      widespread_pain_count, fibro_and_pain, fatigue_and_pain, all_three),\n",
    "                     set_colors=('#59A2CF', '#91C64A', '#CD5A70'),\n",
    "                     # set_colors=('#4DBEEE', '#77AC30', '#A11731'),\n",
    "                     set_labels=('', '', ''),\n",
    "                     alpha=.5,\n",
    "            )\n",
    "c = venn3_circles(subsets=(fibromyalgia_count, chronic_fatigue_syndrome_count, fibro_and_fatigue,\n",
    "                            widespread_pain_count, fibro_and_pain, fatigue_and_pain, all_three),\n",
    "                            linewidth=.25, color = 'k',\n",
    ")\n",
    "\n",
    "# Customizing the colors\n",
    "# venn.get_patch_by_id('100').set_color('skyblue')\n",
    "# venn.get_patch_by_id('010').set_color('lightgreen')\n",
    "# venn.get_patch_by_id('001').set_color('lightcoral')\n",
    "\n",
    "# Customizing the text\n",
    "for text in venn.set_labels:\n",
    "    text.set_fontsize(0)\n",
    "for text in venn.subset_labels:\n",
    "    text.set_fontsize(7.5)\n",
    "\n",
    "# Adjust the plot to ensure everything fits without overlapping\n",
    "plt.tight_layout()\n",
    "plt.show()\n",
    "\n",
    "# fig.savefig(\"/Users/Patty/Desktop/Biomarker_Paper/Fig_3_Nociplastic/Noci_venn.pdf\", \n",
    "#         dpi=300, transparent=True, bbox_inches='tight')"
   ]
  },
  {
   "cell_type": "markdown",
   "id": "5eff0e3b-d349-4ec2-a055-a5728de0b055",
   "metadata": {},
   "source": [
    "# Extract structure coefficients from nociplastic condition models"
   ]
  },
  {
   "cell_type": "code",
   "execution_count": 11,
   "id": "989c0d43-dfc4-4113-a498-93ba22ebfe1b",
   "metadata": {},
   "outputs": [],
   "source": [
    "home_dir = '/Users/Patty/Desktop/EVP_lab/'\n",
    "maps_dir = '/Users/Patty/Desktop/Biomarker_Paper/Brain_plots/Nociplastic_sig/Maps/'\n",
    "plots_dir = '/Users/Patty/Desktop/Biomarker_Paper/Brain_plots/Nociplastic_sig/Plots/'\n",
    "\n",
    "fan = nib.load(home_dir+'Fan_et_al_atlas_r279_MNI_3mm_V2.nii')\n",
    "nodes = pd.read_csv(home_dir + 'Fan_Cluster_279_Details_V2.csv')\n",
    "edges = pd.read_csv(home_dir + 'Fan_Cluster_279_Edges_Details_V2.csv')\n"
   ]
  },
  {
   "cell_type": "code",
   "execution_count": 19,
   "id": "79c702e9-5305-4e97-85ac-1d25e779d8a9",
   "metadata": {},
   "outputs": [],
   "source": [
    "# Model results for each condition and combined conditions\n",
    "fibro = pd.concat([noci[i]['weights'][1] for i in noci.keys() if 'fibromyalgia_fMRI' in i]).groupby(level=0,sort=False).mean()\n",
    "CFS = pd.concat([noci[i]['weights'][1] for i in noci.keys() if 'syndrome_fMRI' in i]).groupby(level=0,sort=False).mean()\n",
    "WSP = pd.concat([noci[i]['weights'][1] for i in noci.keys() if 'Pain_fMRI' in i]).groupby(level=0,sort=False).mean()\n",
    "nociplast = pd.concat([noci[i]['weights'][1] for i in noci.keys() if 'Nociplastic_fMRI' in i]).groupby(level=0,sort=False).mean()\n",
    "\n",
    "# Combine results\n",
    "tmp = pd.concat([noci[i]['results_df'] for i in noci.keys() if 'Nociplastic' in i])\n",
    "tmp.index = [i[:-4] for i in tmp.index]\n",
    "tmp = tmp[~tmp.index.str.contains('ToPS')]"
   ]
  },
  {
   "cell_type": "code",
   "execution_count": 20,
   "id": "08cdacf1-63c1-479c-8ef0-8c287a801da6",
   "metadata": {},
   "outputs": [
    {
     "name": "stderr",
     "output_type": "stream",
     "text": [
      "/var/folders/fd/xlhv7rgs74738n6159bs595w0000gn/T/ipykernel_58106/1950998022.py:14: FutureWarning: \n",
      "\n",
      "The `ci` parameter is deprecated. Use `errorbar='sd'` for the same effect.\n",
      "\n",
      "  sns.barplot(x='Category', y='AUC_test', data=df_reset, ci='sd', palette='viridis', ax=ax)\n",
      "/var/folders/fd/xlhv7rgs74738n6159bs595w0000gn/T/ipykernel_58106/1950998022.py:14: FutureWarning: \n",
      "\n",
      "Passing `palette` without assigning `hue` is deprecated and will be removed in v0.14.0. Assign the `x` variable to `hue` and set `legend=False` for the same effect.\n",
      "\n",
      "  sns.barplot(x='Category', y='AUC_test', data=df_reset, ci='sd', palette='viridis', ax=ax)\n",
      "/var/folders/fd/xlhv7rgs74738n6159bs595w0000gn/T/ipykernel_58106/1950998022.py:21: UserWarning: FixedFormatter should only be used together with FixedLocator\n",
      "  ax.set_xticklabels(['T1','DWI','fMRI','All'])  # This removes the x-ticks\n"
     ]
    },
    {
     "data": {
      "image/png": "[encoded data removed]",
      "text/plain": [
       "<Figure size 600x450 with 1 Axes>"
      ]
     },
     "metadata": {
      "needs_background": "light"
     },
     "output_type": "display_data"
    }
   ],
   "source": [
    "df = tmp[['AUC_test']]\n",
    "\n",
    "# Assuming your DataFrame is named df and looks like the one you described\n",
    "# First, reset the index to convert the index into a regular column\n",
    "df_reset = df.reset_index()\n",
    "\n",
    "# Rename columns for clarity\n",
    "df_reset.columns = ['Category', 'AUC_test']\n",
    "\n",
    "# Create a figure and axis object\n",
    "fig, ax = plt.subplots(figsize=(2, 1.5))  # Adjust the size as needed\n",
    "\n",
    "# Create the seaborn barplot on the specified axis (ax)\n",
    "sns.barplot(x='Category', y='AUC_test', data=df_reset, ci='sd', palette='viridis', ax=ax)\n",
    "\n",
    "# Set y-axis limits\n",
    "ax.set_ylim(0.5, 0.725)\n",
    "ax.set_yticks([0.5,0.6,0.7])\n",
    "\n",
    "# Optional: Improve plot aesthetics\n",
    "ax.set_xticklabels(['T1','DWI','fMRI','All'])  # This removes the x-ticks\n",
    "ax.set_title('')\n",
    "ax.set_ylabel('')\n",
    "ax.set_ylabel('AUC (Nocip. vs. Dx-free)')\n",
    "ax.set_xlabel('')\n",
    "\n",
    "# Show the plot\n",
    "plt.tight_layout()  # Adjust subplot parameters for a better fit\n",
    "plt.show()\n",
    "# fig.savefig(\"/Users/Patty/Desktop/Biomarker_Paper/Fig_3_Nociplastic/noci_bars.pdf\", \n",
    "#         dpi=300, transparent=True, bbox_inches='tight')\n"
   ]
  },
  {
   "cell_type": "markdown",
   "id": "85f55ab5-afb5-44ae-a37d-24cde5d429ef",
   "metadata": {},
   "source": [
    "# Validate the nociplastic pain signature in an external dataset OpenPain (n=250)"
   ]
  },
  {
   "cell_type": "code",
   "execution_count": 26,
   "id": "62c2655d-b581-4041-848e-924285fd44ba",
   "metadata": {},
   "outputs": [
    {
     "name": "stderr",
     "output_type": "stream",
     "text": [
      "/var/folders/fd/xlhv7rgs74738n6159bs595w0000gn/T/ipykernel_58106/2650557702.py:2: DtypeWarning: Columns (38781,38787) have mixed types. Specify dtype option on import or set low_memory=False.\n",
      "  OP = pd.read_csv('/Users/Patty/Desktop/OpenPain/DCC_CSV/DCC_Full.csv')\n",
      "/var/folders/fd/xlhv7rgs74738n6159bs595w0000gn/T/ipykernel_58106/2650557702.py:4: FutureWarning: Dropping of nuisance columns in DataFrame reductions (with 'numeric_only=None') is deprecated; in a future version this will raise TypeError.  Select only valid columns before calling the reduction.\n",
      "  OP = OP.fillna(OP.mean())\n"
     ]
    }
   ],
   "source": [
    "# Load OpenPain brain data\n",
    "OP = pd.read_csv('/Users/Patty/Desktop/OpenPain/DCC_CSV/DCC_Full.csv')\n",
    "OP = OP[(OP['Study'] != 'Placebo_OA') & (OP['Study'] != 'Resting')]\n",
    "OP = OP.fillna(OP.mean())\n",
    "\n",
    "# Recode study site variable\n",
    "from sklearn.preprocessing import LabelEncoder\n",
    "label_encoder = LabelEncoder()\n",
    "OP['Study_int'] = label_encoder.fit_transform(OP['Study'])\n",
    "\n",
    "# Regress out confounds: head motion, age, gender, study site\n",
    "from confounds import Residualize\n",
    "resid = Residualize()\n",
    "resid.fit(zscore(OP[nociplast.index]), OP[['Motion','age','gender','Study_int']])\n",
    "OP[nociplast.index] = resid.transform(zscore(OP[nociplast.index]), OP[['Motion','age','gender','Study_int']])"
   ]
  },
  {
   "cell_type": "code",
   "execution_count": 28,
   "id": "78fdf6cc-6d6f-4b03-99c1-ac77bdfde377",
   "metadata": {},
   "outputs": [
    {
     "data": {
      "text/plain": [
       "Text(0.5, 1.0, '')"
      ]
     },
     "execution_count": 28,
     "metadata": {},
     "output_type": "execute_result"
    },
    {
     "data": {
      "image/png": "[encoded data removed]",
      "text/plain": [
       "<Figure size 300x300 with 1 Axes>"
      ]
     },
     "metadata": {},
     "output_type": "display_data"
    }
   ],
   "source": [
    "pain_type_counts = OP.PainType.value_counts()\n",
    "\n",
    "# Create the pie chart\n",
    "fig = plt.figure(figsize=(1, 1))  # Adjust the figure size as needed\n",
    "plt.pie(pain_type_counts, labels=None, autopct='%1.1f%%', startangle=90, \n",
    "        colors=['#ff9999','#66b3ff'], textprops={'fontsize': 7.5})\n",
    "plt.title('')\n",
    "\n",
    "# fig.savefig(\"/Users/Patty/Desktop/Biomarker_Paper/Fig_3_Nociplastic/OP_pain_pie.pdf\", \n",
    "#         dpi=300, transparent=True, bbox_inches='tight')"
   ]
  },
  {
   "cell_type": "markdown",
   "id": "ace5fd74-04e4-4f52-ae72-4474a1ae55c6",
   "metadata": {},
   "source": [
    "## Calculate and plot nociplastic signature performance vs ToPS signature performance in OpenPain. Also plot null model from 1000 random shuffled permutations"
   ]
  },
  {
   "cell_type": "code",
   "execution_count": 59,
   "id": "2a5b7af3-3263-4191-ae9d-25c44d725d20",
   "metadata": {},
   "outputs": [
    {
     "name": "stderr",
     "output_type": "stream",
     "text": [
      "/var/folders/fd/xlhv7rgs74738n6159bs595w0000gn/T/ipykernel_58106/1154414299.py:57: UserWarning: FixedFormatter should only be used together with FixedLocator\n",
      "  ax.set_xticklabels(thresholds[::-1])\n"
     ]
    },
    {
     "data": {
      "image/png": "[encoded data removed]",
      "text/plain": [
       "<Figure size 600x600 with 1 Axes>"
      ]
     },
     "metadata": {
      "needs_background": "light"
     },
     "output_type": "display_data"
    }
   ],
   "source": [
    "import numpy as np\n",
    "import pandas as pd\n",
    "from scipy.stats import zscore\n",
    "from sklearn.metrics import roc_auc_score\n",
    "import seaborn as sns\n",
    "import matplotlib.pyplot as plt\n",
    "import scipy\n",
    "from scipy.stats import zscore\n",
    "\n",
    "def compute_auc(OP, weights, threshold, column_name):\n",
    "    # Threshold the weights\n",
    "    thresholded_weights = threshold_w(weights, threshold)\n",
    "    # Compute signature\n",
    "    OP[column_name] = np.dot(zscore(OP[weights.index]), thresholded_weights)\n",
    "    # Compute AUC\n",
    "    return roc_auc_score(OP['ChronicPain'], OP[column_name])\n",
    "\n",
    "def threshold_w(w, threshold):\n",
    "    thresh = 100 - threshold\n",
    "    w = np.where(abs(w) > np.percentile(abs(w), thresh), w, 0)\n",
    "    return w\n",
    "\n",
    "\n",
    "H = pd.concat([noci[i]['weights'][1] for i in noci.keys() if 'Nociplastic_fMRI' in i]).groupby(level=0,sort=False).mean()\n",
    "tops_w = scipy.io.loadmat('/Users/Patty/Desktop/ToPS/ToPS_weight.mat')['ToPS_w'].T[0]\n",
    "tops_w_df = pd.DataFrame(tops_w,index=edges.names,columns=['ToPS'])\n",
    "\n",
    "n_permutations = 1000  # Number of permutations\n",
    "thresholds = [0.5, 1, 2.5, 5, 10, 25, 50, 100]  # From 1% to 100%\n",
    "permuted_auc_scores = []  # To store the permuted AUC scores\n",
    "\n",
    "for t in thresholds:\n",
    "    # Threshold the weights for the current threshold\n",
    "    thresholded_weights = threshold_w(H, t)\n",
    "    OP['H_t'] = np.dot(zscore(OP[H.index]), thresholded_weights)\n",
    "    X_t = OP['H_t']\n",
    "    \n",
    "    for _ in range(n_permutations):\n",
    "        # Shuffle the labels\n",
    "        y_shuffled = np.random.permutation(OP.ChronicPain)\n",
    "\n",
    "        # Compute AUC score between the shuffled target and the single feature\n",
    "        auc_score = roc_auc_score(y_shuffled, X_t)\n",
    "        permuted_auc_scores.append({'Threshold': t, 'Permuted_AUC': auc_score})\n",
    "permuted_auc_df = pd.DataFrame(permuted_auc_scores)\n",
    "\n",
    "# 'OP' is pain DataFrame and 'H' and 'tops_w' are your weight vectors\n",
    "thresholds = [0.5, 1, 2.5, 5, 10, 25, 50, 100]  # From 1% to 100%\n",
    "auc_scores_H = []\n",
    "auc_scores_tops = []\n",
    "\n",
    "for t in thresholds:\n",
    "    auc_H = compute_auc(OP, H, t, 'H')\n",
    "    auc_tops = compute_auc(OP, tops_w_df, t, 'tops')\n",
    "    auc_scores_H.append(auc_H)\n",
    "    auc_scores_tops.append(auc_tops)\n",
    "\n",
    "# Creating a DataFrame for plotting\n",
    "thresholds_df = pd.DataFrame({\n",
    "    'Threshold': thresholds,\n",
    "    'AUC_H': auc_scores_H,\n",
    "    'AUC_tops': auc_scores_tops\n",
    "})\n",
    "\n",
    "thresholds_df = thresholds_df.sort_values('Threshold', ascending=False)\n",
    "thresholds_df['Threshold'] = thresholds_df['Threshold'].astype(str)\n",
    "permuted_auc_df['Threshold'] = permuted_auc_df['Threshold'].astype(str)\n",
    "\n",
    "# Plotting\n",
    "fig, ax = plt.subplots(figsize=(2, 2))\n",
    "sns.pointplot(x='Threshold', y='AUC_H', data=thresholds_df, color='blue', label='NFS', markersize=4, linewidth=1.5, ax=ax)\n",
    "sns.pointplot(x='Threshold', y='AUC_tops', data=thresholds_df, color='red', label='ToPS', markersize=4, linewidth=1.5, ax=ax)\n",
    "sns.pointplot(x='Threshold',y='Permuted_AUC', data=permuted_auc_df, errorbar='sd', linestyle='--', color='lightgrey', markersize=4, linewidth=.5, zorder=-10, ax=ax)\n",
    "sns.lineplot(x='Threshold',y='Permuted_AUC', data=permuted_auc_df, errorbar='sd', linestyle='--', linewidth=.5, color='grey', zorder=-15, ax=ax)\n",
    "ax.set_xlabel('Signature threshold (%)')\n",
    "ax.set_ylabel('AUC (Pain vs. pain-free)')\n",
    "# ax.axhline(.5,linestyle='--',lw=.5,color='k',zorder=-10)\n",
    "ax.set_xticklabels(thresholds[::-1])\n",
    "# plt.gca().invert_xaxis()  # Invert the x-axis\n",
    "sns.despine()\n",
    "\n",
    "plt.show()\n",
    "# fig.savefig(\"/Users/Patty/Desktop/Biomarker_Paper/Fig_3_Nociplastic/OP_validation.pdf\", \n",
    "#         dpi=300, transparent=True, bbox_inches='tight')\n"
   ]
  },
  {
   "cell_type": "markdown",
   "id": "2bb7c97b-31c3-40e8-a6da-f4dafab4b1e5",
   "metadata": {},
   "source": [
    "### Subacute sessions"
   ]
  },
  {
   "cell_type": "code",
   "execution_count": null,
   "id": "540ef37e-fe33-4702-bcf7-5f58706ee6bc",
   "metadata": {},
   "outputs": [],
   "source": [
    "import pandas as pd\n",
    "\n",
    "# Load the provided CSV file\n",
    "file_path = '/Users/Patty/Desktop/OpenPain/Subacute/Subacute_sessions_merged.csv'\n",
    "data = pd.read_csv(file_path)\n",
    "\n",
    "subac = OP[OP['Study'].str.contains('Subacute')]\n",
    "sub = [i for i in subac[subac['ChronicPain'] == 1].ID]\n",
    "visit = [i.split('_')[1] for i in subac[subac['ChronicPain'] == 1].Study]\n",
    "subjects_sessions = pd.DataFrame([sub,visit]).T.values\n",
    "\n",
    "# Correcting the filter to ensure we get one row per subject-session pair as requested\n",
    "filtered_data_corrected = pd.DataFrame()\n",
    "\n",
    "# Iterating through the subject-session pairs and appending the matched row to the new dataframe\n",
    "for subject, session in subjects_sessions:\n",
    "    matched_row = data[(data['eid'] == subject) & (data['session_id'] == session)]\n",
    "    filtered_data_corrected = filtered_data_corrected.append(matched_row)\n",
    "    \n",
    "filtered_data_corrected['mpq_radiculopathy'].astype(float).hist()"
   ]
  },
  {
   "cell_type": "markdown",
   "id": "ed09ae73-2e3a-44ff-abfd-2f455059249e",
   "metadata": {},
   "source": [
    "# This code is used to extract structure coefficients of the nociplastic signature and save them as a matlab file for plotting the circos plot in matlab"
   ]
  },
  {
   "cell_type": "code",
   "execution_count": 1676,
   "id": "0c2d61b4-def0-4b65-9fd6-b34858d02e5d",
   "metadata": {},
   "outputs": [],
   "source": [
    "brain_fc = pd.read_csv(home_dir + 'DCC_full' + '.csv',nrows=1000)  # FC method \n"
   ]
  },
  {
   "cell_type": "code",
   "execution_count": null,
   "id": "8300ef29-3b86-42b3-83b9-a54d50902ea7",
   "metadata": {},
   "outputs": [],
   "source": [
    "import pandas as pd\n",
    "import numpy as np\n",
    "\n",
    "# Assuming you have the following dataframes:\n",
    "# df_weights: A dataframe with a single column of feature weights\n",
    "# df_features: A dataframe with feature values for each subject (rows are subjects, columns are features)\n",
    "\n",
    "# Calculate the covariance matrix of the features\n",
    "cov_matrix = df_features.cov()\n",
    "\n",
    "# Ensure df_weights is a numpy array for matrix multiplication\n",
    "weights = df_weights.values\n",
    "\n",
    "# Compute the Haufe transform of the weights\n",
    "haufe_transformed_weights = np.dot(cov_matrix, weights)\n",
    "\n",
    "# Convert the result back to a dataframe if needed\n",
    "df_haufe_transformed_weights = pd.DataFrame(haufe_transformed_weights, index=df_weights.index, columns=['Transformed Weights'])\n",
    "\n",
    "# Output the transformed weights\n",
    "print(df_haufe_transformed_weights)\n"
   ]
  },
  {
   "cell_type": "code",
   "execution_count": null,
   "id": "1597721e-1857-45a0-9ec5-c196c7a7657a",
   "metadata": {},
   "outputs": [],
   "source": [
    "scale = StandardScaler()\n",
    "X_train = scale.fit_transform(X_train)\n",
    "log_prob_tr = np.log(prob_tr / (1-prob_tr))\n",
    "w = [np.cov(i, log_prob_tr)[0,1] for i in X_train.T]\n",
    "hauf = pd.DataFrame(w,index=feature_labels,columns=['Haufe'])\n",
    "\n",
    "feat_imp.append(importances)\n",
    "feat_imp.append(hauf)"
   ]
  },
  {
   "cell_type": "code",
   "execution_count": null,
   "id": "af49adb2-c16c-493c-947f-a5265f846d0a",
   "metadata": {},
   "outputs": [],
   "source": [
    "cov_matrix = X_train.cov()\n",
    "weights = importances.values\n",
    "haufe_weights = np.dot(cov_matrix, weights)\n",
    "haufe_weights_df = pd.DataFrame(haufe_weights, index=importances.index, columns=['Haufe'])\n"
   ]
  },
  {
   "cell_type": "code",
   "execution_count": 145,
   "id": "3bf9f063-0c8c-4a12-bc52-03a212bb537a",
   "metadata": {},
   "outputs": [],
   "source": [
    "fibro = pd.concat([noci[i]['weights'][1] for i in noci.keys() if 'fibromyalgia_fMRI' in i]).groupby(level=0,sort=False).mean()\n",
    "CFS = pd.concat([noci[i]['weights'][1] for i in noci.keys() if 'syndrome_fMRI' in i]).groupby(level=0,sort=False).mean()\n",
    "WSP = pd.concat([noci[i]['weights'][1] for i in noci.keys() if 'Pain_fMRI' in i]).groupby(level=0,sort=False).mean()\n",
    "nociplast = pd.concat([noci[i]['weights'][1] for i in noci.keys() if 'Nociplastic_fMRI' in i]).groupby(level=0,sort=False).mean()\n"
   ]
  },
  {
   "cell_type": "code",
   "execution_count": 146,
   "id": "39bddcdc-378f-43a0-8462-2a829841be32",
   "metadata": {},
   "outputs": [],
   "source": [
    "from scipy.io import savemat\n",
    "\n",
    "mat_data = {col_name: fibro[col_name].values.reshape(-1,1) for col_name in fibro.columns}\n",
    "savemat('/Users/Patty/Documents/MATLAB/ToPS/fibro_loadings.mat', mat_data)\n",
    "\n",
    "mat_data = {col_name: fibro[col_name].values.reshape(-1,1) for col_name in CFS.columns}\n",
    "savemat('/Users/Patty/Documents/MATLAB/ToPS/CFS_loadings.mat', mat_data)\n",
    "\n",
    "mat_data = {col_name: fibro[col_name].values.reshape(-1,1) for col_name in WSP.columns}\n",
    "savemat('/Users/Patty/Documents/MATLAB/ToPS/WSP_loadings.mat', mat_data)\n",
    "\n",
    "mat_data = {'loading': nociplast[col_name].values.reshape(-1,1) for col_name in nociplast.columns}\n",
    "savemat('/Users/Patty/Documents/MATLAB/ToPS/noci_loadings.mat', mat_data)"
   ]
  },
  {
   "cell_type": "markdown",
   "id": "9df0f4fc-82de-42e5-b5cc-c7864ac6b2e2",
   "metadata": {},
   "source": [
    "## Positive vs. Negative loadings donut plot"
   ]
  },
  {
   "cell_type": "code",
   "execution_count": 230,
   "id": "d9553f7a-d5fb-4b2d-99ac-ed485d26c882",
   "metadata": {},
   "outputs": [
    {
     "data": {
      "image/png": "[encoded data removed]",
      "text/plain": [
       "<Figure size 54x54 with 1 Axes>"
      ]
     },
     "metadata": {},
     "output_type": "display_data"
    }
   ],
   "source": [
    "fig,ax = plt.subplots(figsize=(.75,.75))\n",
    "\n",
    "pos = (WSP > 0).sum() / WSP.shape[0]\n",
    "neg = 1-pos\n",
    "data = np.stack([pos,neg]).flatten()\n",
    "    \n",
    "# create data\n",
    "names = ['Positive', 'Negative']\n",
    "\n",
    "# Create a circle at the center of the plot\n",
    "\n",
    "pie_colors = ['#f6553d','#59a2cf']\n",
    "\n",
    "# Custom wedges\n",
    "ax.pie(data, labels=None, colors=pie_colors,\n",
    "                   wedgeprops = { 'width' : .35, 'edgecolor' : 'grey', 'linewidth':.1},\n",
    "                   startangle=90,\n",
    "         )\n",
    "    \n",
    "fig.savefig(\"/Users/Patty/Desktop/Biomarker_Paper/Fig_3_Nociplastic/WSP_pie.pdf\", \n",
    "    dpi=300, transparent=True, bbox_inches='tight')"
   ]
  },
  {
   "cell_type": "markdown",
   "id": "e5458512-e42b-4b63-bf53-1a31ff785f89",
   "metadata": {},
   "source": [
    "## Code to write node-average connectivity of nociplastic signatures to file for brain rendering using Surfice"
   ]
  },
  {
   "cell_type": "code",
   "execution_count": 242,
   "id": "7f805955-d5b0-4ed7-9634-871068b501da",
   "metadata": {},
   "outputs": [],
   "source": [
    "fibro = pd.concat([noci[i]['weights'][1] for i in noci.keys() if 'fibromyalgia_fMRI' in i]).groupby(level=0,sort=False).mean()\n",
    "CFS = pd.concat([noci[i]['weights'][1] for i in noci.keys() if 'syndrome_fMRI' in i]).groupby(level=0,sort=False).mean()\n",
    "WSP = pd.concat([noci[i]['weights'][1] for i in noci.keys() if 'Pain_fMRI' in i]).groupby(level=0,sort=False).mean()\n",
    "nociplast = pd.concat([noci[i]['weights'][1] for i in noci.keys() if 'Nociplastic_fMRI' in i]).groupby(level=0,sort=False).mean()\n"
   ]
  },
  {
   "cell_type": "code",
   "execution_count": 267,
   "id": "fa234cba-1a2b-4015-b417-4d4cc1565214",
   "metadata": {},
   "outputs": [],
   "source": [
    "thresh_w = threshold_w(nociplast.loadings,25)\n",
    "\n",
    "thresh_w = threshold_w(fibro.loadings,25)\n",
    "\n",
    "matrix = vec_to_sym_matrix(thresh_w, diagonal = np.repeat(0,279))\n",
    "matrix_main = pd.DataFrame(matrix,columns=nodes.fc_networks)\n",
    "\n",
    "dat = np.nansum(matrix_main, axis=1)\n",
    "ID = np.arange(1,280)\n",
    "dico_remap = dict(zip(ID,dat))\n",
    "\n",
    "data = fan.get_fdata()\n",
    "for i in ID:\n",
    "    data = np.where(data == i, dico_remap[i], data)\n",
    "nib.Nifti1Image(data, fan.affine).to_filename(maps_dir + 'Cortical_fan_W.nii.gz')"
   ]
  },
  {
   "cell_type": "code",
   "execution_count": 240,
   "id": "2a47246c-8a58-4db0-9b65-ff62862d4581",
   "metadata": {
    "collapsed": true,
    "jupyter": {
     "outputs_hidden": true
    },
    "tags": []
   },
   "outputs": [
    {
     "ename": "ModuleNotFoundError",
     "evalue": "No module named 'gl'",
     "output_type": "error",
     "traceback": [
      "\u001b[0;31m---------------------------------------------------------------------------\u001b[0m",
      "\u001b[0;31mModuleNotFoundError\u001b[0m                       Traceback (most recent call last)",
      "Input \u001b[0;32mIn [240]\u001b[0m, in \u001b[0;36m<cell line: 4>\u001b[0;34m()\u001b[0m\n\u001b[1;32m      1\u001b[0m \u001b[38;5;66;03m### SURF-ICE PLOTTING\u001b[39;00m\n\u001b[1;32m      2\u001b[0m \u001b[38;5;66;03m#Cortical Left Side\u001b[39;00m\n\u001b[0;32m----> 4\u001b[0m \u001b[38;5;28;01mimport\u001b[39;00m \u001b[38;5;21;01mgl\u001b[39;00m\n\u001b[1;32m      5\u001b[0m gl\u001b[38;5;241m.\u001b[39mresetdefaults()\n\u001b[1;32m      7\u001b[0m \u001b[38;5;66;03m# name = 'fibro' # either fibro, CFS, WSP, or noci\u001b[39;00m\n\u001b[1;32m      8\u001b[0m \u001b[38;5;66;03m# min_c = -2\u001b[39;00m\n\u001b[1;32m      9\u001b[0m \u001b[38;5;66;03m# max_c = 2\u001b[39;00m\n\u001b[0;32m   (...)\u001b[0m\n\u001b[1;32m     28\u001b[0m \u001b[38;5;66;03m# f.write(\"nodergba4=0|128|255|128\\n\")\u001b[39;00m\n\u001b[1;32m     29\u001b[0m \u001b[38;5;66;03m# f.close()\u001b[39;00m\n",
      "\u001b[0;31mModuleNotFoundError\u001b[0m: No module named 'gl'"
     ]
    }
   ],
   "source": [
    "### SURF-ICE PLOTTING\n",
    "#Cortical Left Side\n",
    "\n",
    "import gl\n",
    "gl.resetdefaults()\n",
    "\n",
    "import gl\n",
    "gl.resetdefaults()\n",
    "name = 'fibro' # either fibro, CFS, WSP, or noci\n",
    "min_c = -2\n",
    "max_c = 0\n",
    "\n",
    "import os\n",
    "# Light blue, Light red version\n",
    "fnm = os.path.expanduser(\"~\")+os.path.sep+'myLUT.clut';\n",
    "f = open(fnm, \"w\")\n",
    "f.write(\"[INT]\\n\")\n",
    "f.write(\"numnodes=5\\n\")\n",
    "f.write(\"[BYT]\\n\")\n",
    "f.write(\"nodeintensity0=20\\n\")\n",
    "f.write(\"nodeintensity1=100\\n\")\n",
    "f.write(\"nodeintensity2=255\\n\")\n",
    "f.write(\"[RGBA255]\\n\")\n",
    "f.write(\"nodergba0=255|255|255|255\\n\")\n",
    "f.write(\"nodergba1=153|204|255|128\\n\")\n",
    "f.write(\"nodergba2=0|128|255|128\\n\")\n",
    "f.close()\n",
    "\n",
    "#Cortical Right Side\n",
    "gl.meshload('BrainMesh_ICBM152_smoothed.rh.mz3')\n",
    "gl.overlayload('/Users/Patty/Desktop/Biomarker_Paper/Brain_plots/Nociplastic_sig/Maps/Cortical_fan_W.nii.gz')\n",
    "gl.overlaycolorname(1,fnm)\n",
    "gl.overlayinvert(1, 1)\n",
    "gl.overlayminmax(1,min_c,max_c)\n",
    "gl.colorbarvisible(False)\n",
    "gl.orientcubevisible(False)\n",
    "gl.shaderadjust('SpecularRough',0)\n",
    "gl.bmpzoom(2)\n",
    "gl.viewsagittal(1)\n",
    "gl.savebmp(f'/Users/Patty/Desktop/Biomarker_Paper/Brain_plots/Nociplastic_sig/Plots/{name}_R_Lat_Fan_Cortical_W.png')"
   ]
  },
  {
   "cell_type": "code",
   "execution_count": 1106,
   "id": "34c0ed0a-2f39-49aa-bc1f-d9db016a93bf",
   "metadata": {
    "collapsed": true,
    "jupyter": {
     "outputs_hidden": true
    },
    "tags": []
   },
   "outputs": [
    {
     "ename": "ModuleNotFoundError",
     "evalue": "No module named 'gl'",
     "output_type": "error",
     "traceback": [
      "\u001b[0;31m---------------------------------------------------------------------------\u001b[0m",
      "\u001b[0;31mModuleNotFoundError\u001b[0m                       Traceback (most recent call last)",
      "Input \u001b[0;32mIn [1106]\u001b[0m, in \u001b[0;36m<cell line: 3>\u001b[0;34m()\u001b[0m\n\u001b[1;32m      1\u001b[0m \u001b[38;5;66;03m### SURF-ICE PLOTTING\u001b[39;00m\n\u001b[1;32m      2\u001b[0m \u001b[38;5;66;03m#Cortical Left Side\u001b[39;00m\n\u001b[0;32m----> 3\u001b[0m \u001b[38;5;28;01mimport\u001b[39;00m \u001b[38;5;21;01mgl\u001b[39;00m\n\u001b[1;32m      4\u001b[0m gl\u001b[38;5;241m.\u001b[39mresetdefaults()\n\u001b[1;32m      6\u001b[0m name \u001b[38;5;241m=\u001b[39m \u001b[38;5;124m'\u001b[39m\u001b[38;5;124mWSP\u001b[39m\u001b[38;5;124m'\u001b[39m \u001b[38;5;66;03m# either fibro, CFS, WSP, or noci\u001b[39;00m\n",
      "\u001b[0;31mModuleNotFoundError\u001b[0m: No module named 'gl'"
     ]
    }
   ],
   "source": [
    "### SURF-ICE PLOTTING\n",
    "#Cortical Left Side\n",
    "\n",
    "# import gl\n",
    "# gl.resetdefaults()\n",
    "\n",
    "# name = 'noci' # either fibro, CFS, WSP, or noci\n",
    "# min_c = -2\n",
    "# max_c = 2\n",
    "\n",
    "# import os\n",
    "# # Light blue, Light red version\n",
    "# fnm = os.path.expanduser(\"~\")+os.path.sep+'myLUT.clut';\n",
    "# f = open(fnm, \"w\")\n",
    "# f.write(\"[INT]\\n\")\n",
    "# f.write(\"numnodes=5\\n\")\n",
    "# f.write(\"[BYT]\\n\")\n",
    "# f.write(\"nodeintensity0=0\\n\")\n",
    "# f.write(\"nodeintensity1=100\\n\")\n",
    "# f.write(\"nodeintensity2=128\\n\")\n",
    "# f.write(\"nodeintensity3=160\\n\")\n",
    "# f.write(\"nodeintensity4=255\\n\")\n",
    "# f.write(\"[RGBA255]\\n\")\n",
    "# f.write(\"nodergba0=255|51|51|128\\n\")\n",
    "# f.write(\"nodergba1=255|153|153|128\\n\")\n",
    "# f.write(\"nodergba2=255|255|255|255\\n\")\n",
    "# f.write(\"nodergba3=153|204|255|128\\n\")\n",
    "# f.write(\"nodergba4=0|128|255|128\\n\")\n",
    "# f.close()\n",
    "\n",
    "import gl\n",
    "gl.resetdefaults()\n",
    "name = 'noci' # either fibro, CFS, WSP, or noci\n",
    "min_c = -2\n",
    "max_c = 0\n",
    "\n",
    "import os\n",
    "# Light blue, Light red version\n",
    "fnm = os.path.expanduser(\"~\")+os.path.sep+'myLUT.clut';\n",
    "f = open(fnm, \"w\")\n",
    "f.write(\"[INT]\\n\")\n",
    "f.write(\"numnodes=5\\n\")\n",
    "f.write(\"[BYT]\\n\")\n",
    "f.write(\"nodeintensity0=20\\n\")\n",
    "f.write(\"nodeintensity1=100\\n\")\n",
    "f.write(\"nodeintensity2=255\\n\")\n",
    "f.write(\"[RGBA255]\\n\")\n",
    "f.write(\"nodergba0=255|255|255|255\\n\")\n",
    "f.write(\"nodergba1=153|204|255|128\\n\")\n",
    "f.write(\"nodergba2=0|128|255|128\\n\")\n",
    "f.close()\n",
    "\n",
    "#Cortical Left Side\n",
    "gl.meshload('BrainMesh_ICBM152_smoothed.lh.mz3')\n",
    "gl.overlayload('/Users/Patty/Desktop/Biomarker_Paper/Brain_plots/Nociplastic_sig/Maps/Cortical_fan_W.nii.gz')\n",
    "gl.overlaycolorname(1,fnm)\n",
    "gl.overlayminmax(1,min_c,max_c)\n",
    "gl.overlayinvert(1, 1)\n",
    "gl.colorbarvisible(False)\n",
    "gl.orientcubevisible(False)\n",
    "gl.shaderadjust('SpecularRough',0)\n",
    "gl.bmpzoom(2)\n",
    "gl.viewsagittal(0)\n",
    "gl.savebmp(f'/Users/Patty/Desktop/Biomarker_Paper/Brain_plots/Nociplastic_sig/Plots/{name}_L_Lat_Fan_Cortical_W.png')\n",
    "gl.viewsagittal(1)\n",
    "gl.savebmp(f'/Users/Patty/Desktop/Biomarker_Paper/Brain_plots/Nociplastic_sig/Plots/{name}_L_Med_Fan_Cortical_W.png')\n",
    "\n",
    "#Cortical Right Side\n",
    "gl.meshload('BrainMesh_ICBM152_smoothed.rh.mz3')\n",
    "gl.overlayload('/Users/Patty/Desktop/Biomarker_Paper/Brain_plots/Nociplastic_sig/Maps/Cortical_fan_W.nii.gz')\n",
    "gl.overlaycolorname(1,fnm)\n",
    "gl.overlayinvert(1, 1)\n",
    "gl.overlayminmax(1,min_c,max_c)\n",
    "gl.colorbarvisible(False)\n",
    "gl.orientcubevisible(False)\n",
    "gl.shaderadjust('SpecularRough',0)\n",
    "gl.bmpzoom(2)\n",
    "gl.viewsagittal(1)\n",
    "gl.savebmp(f'/Users/Patty/Desktop/Biomarker_Paper/Brain_plots/Nociplastic_sig/Plots/{name}_R_Lat_Fan_Cortical_W.png')\n",
    "gl.viewsagittal(0)\n",
    "gl.savebmp(f'/Users/Patty/Desktop/Biomarker_Paper/Brain_plots/Nociplastic_sig/Plots/{name}_R_Med_Fan_Cortical_W.png')\n",
    "\n",
    "# Cerebellum\n",
    "gl.meshload('BrainMesh_Cerebellum_by_SLF.mz3') \n",
    "gl.overlayload('/Users/Patty/Desktop/Biomarker_Paper/Brain_plots/Nociplastic_sig/Maps/Cortical_fan_W.nii.gz')\n",
    "gl.overlaycolorname(1,fnm)\n",
    "gl.overlayinvert(1, 1)\n",
    "gl.overlayminmax(1,min_c,max_c)\n",
    "gl.colorbarvisible(False)\n",
    "gl.orientcubevisible(False)\n",
    "gl.shaderadjust('SpecularRough',0)\n",
    "gl.viewcoronal(0)\n",
    "gl.savebmp(f'/Users/Patty/Desktop/Biomarker_Paper/Brain_plots/Nociplastic_sig/Plots/{name}_F_Fan_Cerebellum_W.png')\n",
    "gl.viewsagittal(0)\n",
    "gl.savebmp(f'/Users/Patty/Desktop/Biomarker_Paper/Brain_plots/Nociplastic_sig/Plots/{name}_L_Fan_Cerebellum_W.png')\n",
    "gl.viewsagittal(1)\n",
    "gl.savebmp(f'/Users/Patty/Desktop/Biomarker_Paper/Brain_plots/Nociplastic_sig/Plots/{name}_R_Fan_Cerebellum_W.png')\n",
    "######## END"
   ]
  },
  {
   "cell_type": "markdown",
   "id": "9917d64e-78a1-4742-841b-b1f6a1b02a14",
   "metadata": {},
   "source": [
    "## Subcortical regions "
   ]
  },
  {
   "cell_type": "code",
   "execution_count": null,
   "id": "f8126c6d-f010-4e14-a363-437059a4e167",
   "metadata": {},
   "outputs": [],
   "source": [
    "# Load in light blue cmap\n",
    "import matplotlib as mpl\n",
    "cm = mpl.colors.LinearSegmentedColormap.from_list('lBl', [\n",
    "'#0080FF', '#99CCFF', '#eeeeee'\n",
    "])\n",
    "mpl.colormaps.register(cm)\n"
   ]
  },
  {
   "cell_type": "code",
   "execution_count": 171,
   "id": "f200946f",
   "metadata": {},
   "outputs": [],
   "source": [
    "thresh_w = threshold_w(nociplast.loadings,25)\n",
    "matrix = vec_to_sym_matrix(thresh_w, diagonal = np.repeat(0,279))\n",
    "matrix_main = pd.DataFrame(matrix,columns=nodes.fc_networks)\n",
    "\n",
    "subc = (nodes[nodes.fc=='SCTX'].names.str[:1] + nodes[nodes.fc=='SCTX'].names3).sort_values()\n",
    "\n",
    "# matt = pd.DataFrame(MaxAbsScaler().fit_transform(matrix_main.sum().values.reshape(-1,1)),index=matrix_main.columns)\n",
    "matt = pd.DataFrame(matrix_main.sum().values.reshape(-1,1),index=matrix_main.columns)\n",
    "matt = matt.iloc[subc.index]\n",
    "matt.index = subc\n",
    "matt = matt.groupby(level=0).mean().values.flatten()"
   ]
  },
  {
   "cell_type": "code",
   "execution_count": 181,
   "id": "e7bc9f4a",
   "metadata": {},
   "outputs": [
    {
     "data": {
      "text/plain": [
       "'/Users/Patty/Desktop/Biomarker_Paper/Brain_plots/Nociplastic_sig/Plots/noci_Fan_Subcortical_W.png'"
      ]
     },
     "execution_count": 181,
     "metadata": {},
     "output_type": "execute_result"
    }
   ],
   "source": [
    "from enigmatoolbox.plotting import plot_subcortical\n",
    "\n",
    "name = 'noci' # either fibro, CFS, WSP, or noci\n",
    "min_c = -1.5\n",
    "max_c = 0\n",
    "\n",
    "plot_subcortical(ventricles = False,\n",
    "                 array_name=matt,\n",
    "                 size=(1600, 600), \n",
    "                 scale=True, \n",
    "                 cmap='lBl',\n",
    "                 color_bar=False, \n",
    "                 color_range=(min_c, max_c),\n",
    "                 screenshot = True,\n",
    "                 filename =f'/Users/Patty/Desktop/Biomarker_Paper/Brain_plots/Nociplastic_sig/Plots/{name}_Fan_Subcortical_W.png',\n",
    "                 transparent_bg=True\n",
    "                )"
   ]
  }
 ],
 "metadata": {
  "kernelspec": {
   "display_name": "Python 3 (ipykernel)",
   "language": "python",
   "name": "python3"
  },
  "language_info": {
   "codemirror_mode": {
    "name": "ipython",
    "version": 3
   },
   "file_extension": ".py",
   "mimetype": "text/x-python",
   "name": "python",
   "nbconvert_exporter": "python",
   "pygments_lexer": "ipython3",
   "version": "3.8.13"
  }
 },
 "nbformat": 4,
 "nbformat_minor": 5
}
